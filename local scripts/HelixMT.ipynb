{
 "cells": [
  {
   "cell_type": "markdown",
   "metadata": {},
   "source": [
    "# Start"
   ]
  },
  {
   "cell_type": "code",
   "execution_count": 194,
   "metadata": {},
   "outputs": [],
   "source": [
    "import numpy as np\n",
    "import pandas as pd\n",
    "import matplotlib.pyplot as plt\n",
    "from Bio.Seq import Seq\n",
    "from Bio import SeqIO\n",
    "from Bio.Data.CodonTable import unambiguous_dna_by_id\n",
    "from Bio.SeqUtils import seq3\n",
    "from Bio.SeqFeature import CompoundLocation"
   ]
  },
  {
   "cell_type": "code",
   "execution_count": 150,
   "metadata": {},
   "outputs": [
    {
     "data": {
      "text/html": [
       "<div>\n",
       "<style scoped>\n",
       "    .dataframe tbody tr th:only-of-type {\n",
       "        vertical-align: middle;\n",
       "    }\n",
       "\n",
       "    .dataframe tbody tr th {\n",
       "        vertical-align: top;\n",
       "    }\n",
       "\n",
       "    .dataframe thead th {\n",
       "        text-align: right;\n",
       "    }\n",
       "</style>\n",
       "<table border=\"1\" class=\"dataframe\">\n",
       "  <thead>\n",
       "    <tr style=\"text-align: right;\">\n",
       "      <th></th>\n",
       "      <th>locus</th>\n",
       "      <th>alleles</th>\n",
       "      <th>feature</th>\n",
       "      <th>gene</th>\n",
       "      <th>counts_hom</th>\n",
       "      <th>AF_hom</th>\n",
       "      <th>counts_het</th>\n",
       "      <th>AF_het</th>\n",
       "      <th>mean_ARF</th>\n",
       "      <th>max_ARF</th>\n",
       "      <th>haplogroups_for_homoplasmic_variants</th>\n",
       "      <th>haplogroups_for_heteroplasmic_variants</th>\n",
       "    </tr>\n",
       "  </thead>\n",
       "  <tbody>\n",
       "    <tr>\n",
       "      <th>0</th>\n",
       "      <td>chrM:5</td>\n",
       "      <td>[\"A\",\"C\"]</td>\n",
       "      <td>non_coding</td>\n",
       "      <td>MT-CRb</td>\n",
       "      <td>1</td>\n",
       "      <td>0.000005</td>\n",
       "      <td>0</td>\n",
       "      <td>0.000000</td>\n",
       "      <td>NaN</td>\n",
       "      <td>NaN</td>\n",
       "      <td>[[\"H\",1]]</td>\n",
       "      <td>[]</td>\n",
       "    </tr>\n",
       "    <tr>\n",
       "      <th>1</th>\n",
       "      <td>chrM:10</td>\n",
       "      <td>[\"T\",\"C\"]</td>\n",
       "      <td>non_coding</td>\n",
       "      <td>MT-CRb</td>\n",
       "      <td>7</td>\n",
       "      <td>0.000036</td>\n",
       "      <td>1</td>\n",
       "      <td>0.000005</td>\n",
       "      <td>0.91892</td>\n",
       "      <td>0.91892</td>\n",
       "      <td>[[\"H\",7]]</td>\n",
       "      <td>[[\"H\",1]]</td>\n",
       "    </tr>\n",
       "    <tr>\n",
       "      <th>2</th>\n",
       "      <td>chrM:11</td>\n",
       "      <td>[\"C\",\"T\"]</td>\n",
       "      <td>non_coding</td>\n",
       "      <td>MT-CRb</td>\n",
       "      <td>0</td>\n",
       "      <td>0.000000</td>\n",
       "      <td>1</td>\n",
       "      <td>0.000005</td>\n",
       "      <td>0.60714</td>\n",
       "      <td>0.60714</td>\n",
       "      <td>[]</td>\n",
       "      <td>[[\"H\",1]]</td>\n",
       "    </tr>\n",
       "    <tr>\n",
       "      <th>3</th>\n",
       "      <td>chrM:12</td>\n",
       "      <td>[\"T\",\"C\"]</td>\n",
       "      <td>non_coding</td>\n",
       "      <td>MT-CRb</td>\n",
       "      <td>1</td>\n",
       "      <td>0.000005</td>\n",
       "      <td>0</td>\n",
       "      <td>0.000000</td>\n",
       "      <td>NaN</td>\n",
       "      <td>NaN</td>\n",
       "      <td>[[\"D\",1]]</td>\n",
       "      <td>[]</td>\n",
       "    </tr>\n",
       "    <tr>\n",
       "      <th>4</th>\n",
       "      <td>chrM:16</td>\n",
       "      <td>[\"A\",\"T\"]</td>\n",
       "      <td>non_coding</td>\n",
       "      <td>MT-CRb</td>\n",
       "      <td>273</td>\n",
       "      <td>0.001393</td>\n",
       "      <td>4</td>\n",
       "      <td>0.000020</td>\n",
       "      <td>0.68971</td>\n",
       "      <td>0.92188</td>\n",
       "      <td>[[\"K\",246],[\"U\",12],[\"H\",7],[\"V\",2],[\"B\",1],[\"...</td>\n",
       "      <td>[[\"K\",2],[\"L3\",1],[\"U\",1]]</td>\n",
       "    </tr>\n",
       "    <tr>\n",
       "      <th>...</th>\n",
       "      <td>...</td>\n",
       "      <td>...</td>\n",
       "      <td>...</td>\n",
       "      <td>...</td>\n",
       "      <td>...</td>\n",
       "      <td>...</td>\n",
       "      <td>...</td>\n",
       "      <td>...</td>\n",
       "      <td>...</td>\n",
       "      <td>...</td>\n",
       "      <td>...</td>\n",
       "      <td>...</td>\n",
       "    </tr>\n",
       "    <tr>\n",
       "      <th>14319</th>\n",
       "      <td>chrM:16558</td>\n",
       "      <td>[\"G\",\"A\"]</td>\n",
       "      <td>non_coding</td>\n",
       "      <td>MT-CR</td>\n",
       "      <td>3</td>\n",
       "      <td>0.000015</td>\n",
       "      <td>0</td>\n",
       "      <td>0.000000</td>\n",
       "      <td>NaN</td>\n",
       "      <td>NaN</td>\n",
       "      <td>[[\"J\",3]]</td>\n",
       "      <td>[]</td>\n",
       "    </tr>\n",
       "    <tr>\n",
       "      <th>14320</th>\n",
       "      <td>chrM:16559</td>\n",
       "      <td>[\"A\",\"G\"]</td>\n",
       "      <td>non_coding</td>\n",
       "      <td>MT-CR</td>\n",
       "      <td>9</td>\n",
       "      <td>0.000046</td>\n",
       "      <td>0</td>\n",
       "      <td>0.000000</td>\n",
       "      <td>NaN</td>\n",
       "      <td>NaN</td>\n",
       "      <td>[[\"A\",3],[\"K\",3],[\"H\",2],[\"B\",1]]</td>\n",
       "      <td>[]</td>\n",
       "    </tr>\n",
       "    <tr>\n",
       "      <th>14321</th>\n",
       "      <td>chrM:16562</td>\n",
       "      <td>[\"T\",\"C\"]</td>\n",
       "      <td>non_coding</td>\n",
       "      <td>MT-CR</td>\n",
       "      <td>0</td>\n",
       "      <td>0.000000</td>\n",
       "      <td>1</td>\n",
       "      <td>0.000005</td>\n",
       "      <td>0.85714</td>\n",
       "      <td>0.85714</td>\n",
       "      <td>[]</td>\n",
       "      <td>[[\"U\",1]]</td>\n",
       "    </tr>\n",
       "    <tr>\n",
       "      <th>14322</th>\n",
       "      <td>chrM:16564</td>\n",
       "      <td>[\"A\",\"G\"]</td>\n",
       "      <td>non_coding</td>\n",
       "      <td>MT-CR</td>\n",
       "      <td>0</td>\n",
       "      <td>0.000000</td>\n",
       "      <td>1</td>\n",
       "      <td>0.000005</td>\n",
       "      <td>0.70000</td>\n",
       "      <td>0.70000</td>\n",
       "      <td>[]</td>\n",
       "      <td>[[\"H\",1]]</td>\n",
       "    </tr>\n",
       "    <tr>\n",
       "      <th>14323</th>\n",
       "      <td>chrM:16566</td>\n",
       "      <td>[\"G\",\"A\"]</td>\n",
       "      <td>non_coding</td>\n",
       "      <td>MT-CR</td>\n",
       "      <td>32</td>\n",
       "      <td>0.000163</td>\n",
       "      <td>4</td>\n",
       "      <td>0.000020</td>\n",
       "      <td>0.89204</td>\n",
       "      <td>0.91262</td>\n",
       "      <td>[[\"A\",6],[\"H\",6],[\"B\",5],[\"T\",3],[\"J\",2],[\"U\",...</td>\n",
       "      <td>[[\"M\",2],[\"B\",1],[\"J\",1]]</td>\n",
       "    </tr>\n",
       "  </tbody>\n",
       "</table>\n",
       "<p>14324 rows × 12 columns</p>\n",
       "</div>"
      ],
      "text/plain": [
       "            locus    alleles     feature    gene  counts_hom    AF_hom  \\\n",
       "0          chrM:5  [\"A\",\"C\"]  non_coding  MT-CRb           1  0.000005   \n",
       "1         chrM:10  [\"T\",\"C\"]  non_coding  MT-CRb           7  0.000036   \n",
       "2         chrM:11  [\"C\",\"T\"]  non_coding  MT-CRb           0  0.000000   \n",
       "3         chrM:12  [\"T\",\"C\"]  non_coding  MT-CRb           1  0.000005   \n",
       "4         chrM:16  [\"A\",\"T\"]  non_coding  MT-CRb         273  0.001393   \n",
       "...           ...        ...         ...     ...         ...       ...   \n",
       "14319  chrM:16558  [\"G\",\"A\"]  non_coding   MT-CR           3  0.000015   \n",
       "14320  chrM:16559  [\"A\",\"G\"]  non_coding   MT-CR           9  0.000046   \n",
       "14321  chrM:16562  [\"T\",\"C\"]  non_coding   MT-CR           0  0.000000   \n",
       "14322  chrM:16564  [\"A\",\"G\"]  non_coding   MT-CR           0  0.000000   \n",
       "14323  chrM:16566  [\"G\",\"A\"]  non_coding   MT-CR          32  0.000163   \n",
       "\n",
       "       counts_het    AF_het  mean_ARF  max_ARF  \\\n",
       "0               0  0.000000       NaN      NaN   \n",
       "1               1  0.000005   0.91892  0.91892   \n",
       "2               1  0.000005   0.60714  0.60714   \n",
       "3               0  0.000000       NaN      NaN   \n",
       "4               4  0.000020   0.68971  0.92188   \n",
       "...           ...       ...       ...      ...   \n",
       "14319           0  0.000000       NaN      NaN   \n",
       "14320           0  0.000000       NaN      NaN   \n",
       "14321           1  0.000005   0.85714  0.85714   \n",
       "14322           1  0.000005   0.70000  0.70000   \n",
       "14323           4  0.000020   0.89204  0.91262   \n",
       "\n",
       "                    haplogroups_for_homoplasmic_variants  \\\n",
       "0                                              [[\"H\",1]]   \n",
       "1                                              [[\"H\",7]]   \n",
       "2                                                     []   \n",
       "3                                              [[\"D\",1]]   \n",
       "4      [[\"K\",246],[\"U\",12],[\"H\",7],[\"V\",2],[\"B\",1],[\"...   \n",
       "...                                                  ...   \n",
       "14319                                          [[\"J\",3]]   \n",
       "14320                  [[\"A\",3],[\"K\",3],[\"H\",2],[\"B\",1]]   \n",
       "14321                                                 []   \n",
       "14322                                                 []   \n",
       "14323  [[\"A\",6],[\"H\",6],[\"B\",5],[\"T\",3],[\"J\",2],[\"U\",...   \n",
       "\n",
       "      haplogroups_for_heteroplasmic_variants  \n",
       "0                                         []  \n",
       "1                                  [[\"H\",1]]  \n",
       "2                                  [[\"H\",1]]  \n",
       "3                                         []  \n",
       "4                 [[\"K\",2],[\"L3\",1],[\"U\",1]]  \n",
       "...                                      ...  \n",
       "14319                                     []  \n",
       "14320                                     []  \n",
       "14321                              [[\"U\",1]]  \n",
       "14322                              [[\"H\",1]]  \n",
       "14323              [[\"M\",2],[\"B\",1],[\"J\",1]]  \n",
       "\n",
       "[14324 rows x 12 columns]"
      ]
     },
     "execution_count": 150,
     "metadata": {},
     "output_type": "execute_result"
    }
   ],
   "source": [
    "helix_df = pd.read_csv(r'C:\\Work\\Lab\\pr-29-trna-or-mutagenesis\\raw\\HelixMTdb_20200327.tsv', sep='\\t').copy()\n",
    "helix_df"
   ]
  },
  {
   "cell_type": "code",
   "execution_count": 43,
   "metadata": {},
   "outputs": [
    {
     "data": {
      "text/plain": [
       "[3385, 6015, 3502, 1122, 265, 35]"
      ]
     },
     "execution_count": 43,
     "metadata": {},
     "output_type": "execute_result"
    }
   ],
   "source": [
    "helix_df_singleton = helix_df[helix_df[['counts_het', 'counts_hom']].sum(axis=1) == 1]\n",
    "helix_df_2_001 = helix_df[(helix_df[['counts_het', 'counts_hom']].sum(axis=1) > 1) & (helix_df[['AF_hom', 'AF_het']].sum(axis=1) <= 0.0001)]\n",
    "helix_df_001_01 = helix_df[(helix_df[['AF_hom', 'AF_het']].sum(axis=1) > 0.0001) & (helix_df[['AF_hom', 'AF_het']].sum(axis=1) <= 0.001)]\n",
    "helix_df_01_1 = helix_df[(helix_df[['AF_hom', 'AF_het']].sum(axis=1) > 0.001) & (helix_df[['AF_hom', 'AF_het']].sum(axis=1) <= 0.01)]\n",
    "helix_df_1_10 = helix_df[(helix_df[['AF_hom', 'AF_het']].sum(axis=1) > 0.01) & (helix_df[['AF_hom', 'AF_het']].sum(axis=1) <= 0.1)]\n",
    "helix_df_10_ = helix_df[helix_df[['AF_hom', 'AF_het']].sum(axis=1) > 0.1]\n",
    "helix_dfs = {'singleton':helix_df_singleton, '2-0.1%':helix_df_2_001, '0.01-0.1%':helix_df_001_01, '0.1-1%':helix_df_01_1, '1-10%':helix_df_1_10, '>10%':helix_df_10_}4\n",
    "\n",
    "# values_list = []\n",
    "# for df in helix_dfs.values():\n",
    "#     values_list.append(len(df))\n",
    "list(map(len, helix_dfs.values()))"
   ]
  },
  {
   "cell_type": "code",
   "execution_count": 79,
   "metadata": {},
   "outputs": [
    {
     "data": {
      "text/plain": [
       "12027"
      ]
     },
     "execution_count": 79,
     "metadata": {},
     "output_type": "execute_result"
    }
   ],
   "source": [
    "# selecting rows in the df with only 12 basic substitutions in 'alleles' column\n",
    "substitutions = []\n",
    "for mut in helix_df.alleles.unique():\n",
    "    mut_split = mut[1:-1].split(',')\n",
    "    if len(mut_split) > 2:\n",
    "        continue\n",
    "    if len(mut_split[0])==3 and len(mut_split[-1])==3:\n",
    "        substitutions.append(mut)\n",
    "\n",
    "only_subs_helix_df = helix_df[(helix_df.alleles.isin(substitutions)) & (helix_df.feature != 'non_coding')]\n",
    "len(only_subs_helix_df)"
   ]
  },
  {
   "cell_type": "code",
   "execution_count": 73,
   "metadata": {},
   "outputs": [
    {
     "data": {
      "text/plain": [
       "[3385, 6015, 3502, 1122, 265, 35]"
      ]
     },
     "execution_count": 73,
     "metadata": {},
     "output_type": "execute_result"
    }
   ],
   "source": [
    "only_subs_helix_df_singleton = only_subs_helix_df[only_subs_helix_df[['counts_het', 'counts_hom']].sum(axis=1) == 1]\n",
    "only_subs_helix_df_2_001 = only_subs_helix_df[(only_subs_helix_df[['counts_het', 'counts_hom']].sum(axis=1) > 1) & (only_subs_helix_df[['AF_hom', 'AF_het']].sum(axis=1) <= 0.0001)]\n",
    "only_subs_helix_df_001_01 = only_subs_helix_df[(only_subs_helix_df[['AF_hom', 'AF_het']].sum(axis=1) > 0.0001) & (only_subs_helix_df[['AF_hom', 'AF_het']].sum(axis=1) <= 0.001)]\n",
    "only_subs_helix_df_01_1 = only_subs_helix_df[(only_subs_helix_df[['AF_hom', 'AF_het']].sum(axis=1) > 0.001) & (only_subs_helix_df[['AF_hom', 'AF_het']].sum(axis=1) <= 0.01)]\n",
    "only_subs_helix_df_1_10 = only_subs_helix_df[(only_subs_helix_df[['AF_hom', 'AF_het']].sum(axis=1) > 0.01) & (only_subs_helix_df[['AF_hom', 'AF_het']].sum(axis=1) <= 0.1)]\n",
    "only_subs_helix_df_10_ = only_subs_helix_df[only_subs_helix_df[['AF_hom', 'AF_het']].sum(axis=1) > 0.1]\n",
    "only_subs_helix_dfs = {'singleton':only_subs_helix_df_singleton, '2-0.1%':only_subs_helix_df_2_001, '0.01-0.1%':only_subs_helix_df_001_01, '0.1-1%':only_subs_helix_df_01_1, '1-10%':only_subs_helix_df_1_10, '>10%':only_subs_helix_df_10_}\n",
    "list(map(len, only_subs_helix_dfs.values()))"
   ]
  },
  {
   "cell_type": "code",
   "execution_count": 149,
   "metadata": {},
   "outputs": [
    {
     "data": {
      "text/plain": [
       "array(['MT-TF', 'MT-RNR1', 'MT-TV', 'MT-RNR2', 'MT-TL1', 'MT-ND1',\n",
       "       'MT-TI', 'MT-TQ', 'MT-TM', 'MT-ND2', 'MT-TW', 'MT-TA', 'MT-TN',\n",
       "       'MT-TC', 'MT-TY', 'MT-CO1', 'MT-TS1', 'MT-TD', 'MT-CO2', 'MT-TK',\n",
       "       'MT-ATP8', 'MT-ATP6', 'MT-CO3', 'MT-TG', 'MT-ND3', 'MT-TR',\n",
       "       'MT-ND4L', 'MT-ND4', 'MT-TH', 'MT-TS2', 'MT-TL2', 'MT-ND5',\n",
       "       'MT-ND6', 'MT-TE', 'MT-CYB', 'MT-TT', 'MT-TP'], dtype=object)"
      ]
     },
     "execution_count": 149,
     "metadata": {},
     "output_type": "execute_result"
    }
   ],
   "source": [
    "only_subs_helix_df.gene.unique()"
   ]
  },
  {
   "cell_type": "code",
   "execution_count": 70,
   "metadata": {},
   "outputs": [
    {
     "data": {
      "image/png": "[encoded data removed]",
      "text/plain": [
       "<Figure size 720x432 with 1 Axes>"
      ]
     },
     "metadata": {
      "needs_background": "light"
     },
     "output_type": "display_data"
    }
   ],
   "source": [
    "subs_number = only_subs_helix_df.groupby('alleles').sum(numeric_only=True).loc[:,['counts_hom', 'counts_het']].sum(axis=1)\n",
    "plt.figure(figsize=(10,6))\n",
    "plt.bar(x=substitutions, height=subs_number)\n",
    "plt.show()"
   ]
  },
  {
   "cell_type": "markdown",
   "metadata": {},
   "source": [
    "# RefSeq"
   ]
  },
  {
   "cell_type": "code",
   "execution_count": 191,
   "metadata": {},
   "outputs": [],
   "source": [
    "refseq = SeqIO.read(r\"C:\\Work\\Lab\\pr-29-trna-or-mutagenesis\\raw\\helixMT Reference.gb\", \"genbank\")"
   ]
  },
  {
   "cell_type": "code",
   "execution_count": 135,
   "metadata": {},
   "outputs": [
    {
     "data": {
      "text/plain": [
       "[SeqFeature(CompoundLocation([FeatureLocation(ExactPosition(0), ExactPosition(576), strand=-1), FeatureLocation(ExactPosition(16023), ExactPosition(16569), strand=-1)], 'join'), type='D-loop', location_operator='join'),\n",
       " SeqFeature(FeatureLocation(ExactPosition(576), ExactPosition(647), strand=1), type='tRNA'),\n",
       " SeqFeature(FeatureLocation(ExactPosition(647), ExactPosition(1601), strand=1), type='rRNA'),\n",
       " SeqFeature(FeatureLocation(ExactPosition(1601), ExactPosition(1670), strand=1), type='tRNA'),\n",
       " SeqFeature(FeatureLocation(ExactPosition(1670), ExactPosition(3229), strand=1), type='rRNA'),\n",
       " SeqFeature(FeatureLocation(ExactPosition(3229), ExactPosition(3304), strand=1), type='tRNA'),\n",
       " SeqFeature(FeatureLocation(ExactPosition(3306), ExactPosition(4262), strand=1), type='CDS'),\n",
       " SeqFeature(FeatureLocation(ExactPosition(4262), ExactPosition(4331), strand=1), type='tRNA'),\n",
       " SeqFeature(FeatureLocation(ExactPosition(4328), ExactPosition(4400), strand=-1), type='tRNA'),\n",
       " SeqFeature(FeatureLocation(ExactPosition(4401), ExactPosition(4469), strand=1), type='tRNA'),\n",
       " SeqFeature(FeatureLocation(ExactPosition(4469), ExactPosition(5511), strand=1), type='CDS'),\n",
       " SeqFeature(FeatureLocation(ExactPosition(5511), ExactPosition(5579), strand=1), type='tRNA'),\n",
       " SeqFeature(FeatureLocation(ExactPosition(5586), ExactPosition(5655), strand=-1), type='tRNA'),\n",
       " SeqFeature(FeatureLocation(ExactPosition(5656), ExactPosition(5729), strand=-1), type='tRNA'),\n",
       " SeqFeature(FeatureLocation(ExactPosition(5760), ExactPosition(5826), strand=-1), type='tRNA'),\n",
       " SeqFeature(FeatureLocation(ExactPosition(5825), ExactPosition(5891), strand=-1), type='tRNA'),\n",
       " SeqFeature(FeatureLocation(ExactPosition(5903), ExactPosition(7445), strand=1), type='CDS'),\n",
       " SeqFeature(FeatureLocation(ExactPosition(7445), ExactPosition(7514), strand=-1), type='tRNA'),\n",
       " SeqFeature(FeatureLocation(ExactPosition(7517), ExactPosition(7585), strand=1), type='tRNA'),\n",
       " SeqFeature(FeatureLocation(ExactPosition(7585), ExactPosition(8269), strand=1), type='CDS'),\n",
       " SeqFeature(FeatureLocation(ExactPosition(8294), ExactPosition(8364), strand=1), type='tRNA'),\n",
       " SeqFeature(FeatureLocation(ExactPosition(8365), ExactPosition(8572), strand=1), type='CDS'),\n",
       " SeqFeature(FeatureLocation(ExactPosition(8526), ExactPosition(9207), strand=1), type='CDS'),\n",
       " SeqFeature(FeatureLocation(ExactPosition(9206), ExactPosition(9990), strand=1), type='CDS'),\n",
       " SeqFeature(FeatureLocation(ExactPosition(9990), ExactPosition(10058), strand=1), type='tRNA'),\n",
       " SeqFeature(FeatureLocation(ExactPosition(10058), ExactPosition(10404), strand=1), type='CDS'),\n",
       " SeqFeature(FeatureLocation(ExactPosition(10404), ExactPosition(10469), strand=1), type='tRNA'),\n",
       " SeqFeature(FeatureLocation(ExactPosition(10469), ExactPosition(10766), strand=1), type='CDS'),\n",
       " SeqFeature(FeatureLocation(ExactPosition(10759), ExactPosition(12137), strand=1), type='CDS'),\n",
       " SeqFeature(FeatureLocation(ExactPosition(12137), ExactPosition(12206), strand=1), type='tRNA'),\n",
       " SeqFeature(FeatureLocation(ExactPosition(12206), ExactPosition(12265), strand=1), type='tRNA'),\n",
       " SeqFeature(FeatureLocation(ExactPosition(12265), ExactPosition(12336), strand=1), type='tRNA'),\n",
       " SeqFeature(FeatureLocation(ExactPosition(12336), ExactPosition(14148), strand=1), type='CDS'),\n",
       " SeqFeature(FeatureLocation(ExactPosition(14148), ExactPosition(14673), strand=-1), type='CDS'),\n",
       " SeqFeature(FeatureLocation(ExactPosition(14673), ExactPosition(14742), strand=-1), type='tRNA'),\n",
       " SeqFeature(FeatureLocation(ExactPosition(14746), ExactPosition(15887), strand=1), type='CDS'),\n",
       " SeqFeature(FeatureLocation(ExactPosition(15887), ExactPosition(15953), strand=1), type='tRNA'),\n",
       " SeqFeature(FeatureLocation(ExactPosition(15955), ExactPosition(16023), strand=-1), type='tRNA')]"
      ]
     },
     "execution_count": 135,
     "metadata": {},
     "output_type": "execute_result"
    }
   ],
   "source": [
    "rCRS_annotation = []\n",
    "for refseq_feature in refseq.features[1:]:\n",
    "    if refseq_feature.type not in ['gene', 'misc_feature']:\n",
    "        rCRS_annotation.append(refseq_feature)\n",
    "    # print(refseq_feature.type)\n",
    "    # locations_list.append(refseq_feature.location)\n",
    "    # print(refseq_feature.location)\n",
    "    # print(refseq_feature.qualifiers.keys())\n",
    "rCRS_annotation"
   ]
  },
  {
   "cell_type": "code",
   "execution_count": 196,
   "metadata": {},
   "outputs": [
    {
     "data": {
      "text/plain": [
       "{'0-576': 'D-loop',\n",
       " '16023-16569': 'D-loop',\n",
       " '576-647': ['MTTF'],\n",
       " '647-1601': ['MTRNR1'],\n",
       " '1601-1670': ['MTTV'],\n",
       " '1670-3229': ['MTRNR2'],\n",
       " '3229-3304': ['MTTL1'],\n",
       " '3306-4262': ['MTND1'],\n",
       " '4262-4331': ['MTTI'],\n",
       " '4328-4400': ['MTTQ'],\n",
       " '4401-4469': ['MTTM'],\n",
       " '4469-5511': ['MTND2'],\n",
       " '5511-5579': ['MTTW'],\n",
       " '5586-5655': ['MTTA'],\n",
       " '5656-5729': ['MTTN'],\n",
       " '5760-5826': ['MTTC'],\n",
       " '5825-5891': ['MTTY'],\n",
       " '5903-7445': ['COI', 'MTCO1'],\n",
       " '7445-7514': ['MTTS1'],\n",
       " '7517-7585': ['MTTD'],\n",
       " '7585-8269': ['COII', 'MTCO2'],\n",
       " '8294-8364': ['MTTK'],\n",
       " '8365-8572': ['ATPase8', 'MTATP8'],\n",
       " '8526-9207': ['ATPase6', 'MTATP6'],\n",
       " '9206-9990': ['COIII', 'MTCO3'],\n",
       " '9990-10058': ['MTTG'],\n",
       " '10058-10404': ['MTND3'],\n",
       " '10404-10469': ['MTTR'],\n",
       " '10469-10766': ['MTND4L'],\n",
       " '10759-12137': ['MTND4'],\n",
       " '12137-12206': ['MTTH'],\n",
       " '12206-12265': ['MTTS2'],\n",
       " '12265-12336': ['MTTL2'],\n",
       " '12336-14148': ['MTND5'],\n",
       " '14148-14673': ['MTND6'],\n",
       " '14673-14742': ['MTTE'],\n",
       " '14746-15887': ['MTCYB'],\n",
       " '15887-15953': ['MTTT'],\n",
       " '15955-16023': ['MTTP']}"
      ]
     },
     "execution_count": 196,
     "metadata": {},
     "output_type": "execute_result"
    }
   ],
   "source": [
    "locations_list = {}\n",
    "for refseq_feature in rCRS_annotation:\n",
    "    if isinstance(refseq_feature.location, CompoundLocation):\n",
    "        for refseq_feature_part in refseq_feature.location.parts:\n",
    "            start = refseq_feature_part.nofuzzy_start\n",
    "            end = refseq_feature_part.nofuzzy_end\n",
    "            try:\n",
    "                gene_name = refseq_feature.qualifiers['gene_synonym']\n",
    "            except KeyError:\n",
    "                gene_name = refseq_feature.type\n",
    "            locations_list[f'{start}-{end}'] = gene_name\n",
    "    else:\n",
    "        start = refseq_feature.location.nofuzzy_start\n",
    "        end = refseq_feature.location.nofuzzy_end\n",
    "        gene_name = refseq_feature.qualifiers['gene_synonym']\n",
    "        locations_list[f'{start}-{end}'] = gene_name\n",
    "locations_list"
   ]
  },
  {
   "cell_type": "code",
   "execution_count": 173,
   "metadata": {},
   "outputs": [
    {
     "data": {
      "text/plain": [
       "False"
      ]
     },
     "execution_count": 173,
     "metadata": {},
     "output_type": "execute_result"
    }
   ],
   "source": [
    "rCRS_annotation[0].qualifiers == "
   ]
  }
 ],
 "metadata": {
  "kernelspec": {
   "display_name": "Python 3",
   "language": "python",
   "name": "python3"
  },
  "language_info": {
   "codemirror_mode": {
    "name": "ipython",
    "version": 3
   },
   "file_extension": ".py",
   "mimetype": "text/x-python",
   "name": "python",
   "nbconvert_exporter": "python",
   "pygments_lexer": "ipython3",
   "version": "3.9.7"
  }
 },
 "nbformat": 4,
 "nbformat_minor": 2
}
